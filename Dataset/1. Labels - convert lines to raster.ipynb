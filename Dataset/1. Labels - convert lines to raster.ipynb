{
 "cells": [
  {
   "cell_type": "code",
   "execution_count": 7,
   "id": "ca1c2887-2ceb-4855-b1dc-3377f2f906f8",
   "metadata": {},
   "outputs": [
    {
     "name": "stdin",
     "output_type": "stream",
     "text": [
      "Enter path to reference data:  \"I:\\UnderTheSands\\Results\\UnderTheSANDS_CFE1_levees_1_02\\Vector\\UnderTheSands_Iraq_CFE_Network_of_levees_and_palaeo_channels.shp\"\n",
      "Enter path to output data:  \"I:\\UnderTheSands\\Results\\\"\n",
      "Enter the 'Type' value to use for rasterisation (integer):  1\n"
     ]
    },
    {
     "name": "stdout",
     "output_type": "stream",
     "text": [
      "Buffered levees saved to 'I:\\UnderTheSands\\Results\\UnderTheSands_Iraq_CFE_Network_of_levees_and_palaeo_channels.tif'\n"
     ]
    }
   ],
   "source": [
    "# The code allows for converting levees (line feature class) into raster data, depending on the width of the levee\n",
    "# Raw data\n",
    "# Buławka, Nazarij, and Hector A. Orengo. 2025. ‘The Dataset of Ancient Irrigation Traces in Central Iraq Digitised Using Multi-Temporal and Multi-Source Satellite Imagery’. Dane Badawcze UW. https://doi.org/10.58132/MGOHM8.\n",
    "#\n",
    "# Import the libraries\n",
    "import geopandas as gpd\n",
    "import rasterio\n",
    "import os\n",
    "from rasterio.features import rasterize\n",
    "from rasterio.transform import from_bounds\n",
    "\n",
    "# The procedure consists of several steps, but it is pretty simple: 1. Read the data; 2. Calculate buffer values: multiplication of the buffer value (200 m) with a Size value (0.25, 0.5, 0.75); 3. Create shapes and rasterise them.\n",
    "\n",
    "## Load the raw data and store the name of it\n",
    "shapefile_path = input(\"Enter path to reference data: \").strip('\"')\n",
    "output_name = os.path.splitext(os.path.basename(shapefile_path))[0] + \".tif\"\n",
    "## Specify the location of the output. The original name will be included and saved with tif extension\n",
    "output_path_ = input(\"Enter path to output data: \").strip('\"')\n",
    "output_path = os.path.join(output_path_, output_name)\n",
    "os.makedirs(output_path_, exist_ok=True)  # ensure the folder exists\n",
    "\n",
    "## Put a value, which will be stored in the Raster // For binary classification, this value is 1 \n",
    "manual_type = int(input(\"Enter the 'Type' value to use for rasterisation (integer): \"))\n",
    "## Read the data\n",
    "gdf = gpd.read_file(shapefile_path)\n",
    "# Check if they are correct\n",
    "if 'Size' not in gdf.columns:\n",
    "    raise ValueError(\"Shapefile must contain the 'Size' column\")\n",
    "\n",
    "# Specify the buffer value, which will be used to calculate the width of the features.\n",
    "gdf['Buffer'] = gdf['Size'] * 200 # replace with any value\n",
    "\n",
    "# Filter out data that are incorrect and select levees ( Type = 2)\n",
    "gdf = gdf[(gdf[\"Type\"] == 2) & (gdf[\"geometry\"].notnull())]\n",
    "\n",
    "# Apply the buffer around each line\n",
    "gdf['geometry'] = gdf.apply(lambda row: row.geometry.buffer(row['Buffer']), axis=1)\n",
    "\n",
    "# Define the output metadata\n",
    "minx, miny, maxx, maxy = gdf.total_bounds\n",
    "resolution = 10  # Set spatial resolution\n",
    "width = int((maxx - minx) / resolution)\n",
    "height = int((maxy - miny) / resolution)\n",
    "transform = from_bounds(minx, miny, maxx, maxy, width, height)\n",
    "\n",
    "# Rasterization parametres\n",
    "## Read the shapes\n",
    "shapes = ((geom, manual_type) for geom in gdf['geometry'])\n",
    "rasterized_levee = rasterize(\n",
    "    shapes=shapes,\n",
    "    out_shape=(height, width),\n",
    "    transform=transform,\n",
    "    fill=0,  # Use 0 to fill Nodata\n",
    "    dtype='int32'  # The datatype for raster\n",
    ")\n",
    "\n",
    "# Save the raster\n",
    "with rasterio.open(\n",
    "    output_path,\n",
    "    'w',\n",
    "    driver='GTiff',\n",
    "    height=height,\n",
    "    width=width,\n",
    "    count=1,\n",
    "    dtype=rasterized_levee.dtype,\n",
    "    crs=gdf.crs,  # Use the same coordinate system\n",
    "    transform=transform\n",
    ") as dst:\n",
    "    dst.write(rasterized_levee, 1)\n",
    "\n",
    "print(f\"Buffered levees saved to '{output_path}'\")\n"
   ]
  },
  {
   "cell_type": "code",
   "execution_count": 9,
   "id": "9cfba6b2-b7f5-4684-bdf1-c84dcd75434e",
   "metadata": {},
   "outputs": [
    {
     "name": "stdout",
     "output_type": "stream",
     "text": [
      "Python 3.12.7\n"
     ]
    }
   ],
   "source": [
    "    !python --version\n"
   ]
  },
  {
   "cell_type": "code",
   "execution_count": null,
   "id": "fa2eeadc-cd2a-432c-a173-31a878e49164",
   "metadata": {},
   "outputs": [],
   "source": []
  }
 ],
 "metadata": {
  "kernelspec": {
   "display_name": "Python 3 (ipykernel)",
   "language": "python",
   "name": "python3"
  },
  "language_info": {
   "codemirror_mode": {
    "name": "ipython",
    "version": 3
   },
   "file_extension": ".py",
   "mimetype": "text/x-python",
   "name": "python",
   "nbconvert_exporter": "python",
   "pygments_lexer": "ipython3",
   "version": "3.12.7"
  }
 },
 "nbformat": 4,
 "nbformat_minor": 5
}
