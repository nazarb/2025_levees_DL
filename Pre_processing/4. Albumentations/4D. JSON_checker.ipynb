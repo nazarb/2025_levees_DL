{
 "cells": [
  {
   "cell_type": "markdown",
   "id": "35f7d32e-fce2-423b-b009-8f2699faabac",
   "metadata": {},
   "source": [
    "# The quality inspector\n",
    "## The code is used to check if there is any data leakage between train, validation and test sets"
   ]
  },
  {
   "cell_type": "code",
   "execution_count": 23,
   "id": "97f6b3fe-b656-423e-b2ed-99fa9ab0cb78",
   "metadata": {},
   "outputs": [
    {
     "name": "stdin",
     "output_type": "stream",
     "text": [
      "Enter the path to the first JSON file:  \"E:\\ML\\Levees\\Datasets\\N48XL\\dataset_bin.json\"\n",
      "Enter the path to the second JSON file:  \"E:\\ML\\Levees\\Datasets\\N48XL\\dataset_bin_B.json\"\n"
     ]
    },
    {
     "name": "stdout",
     "output_type": "stream",
     "text": [
      "\n",
      "=== TRAINING ===\n",
      "Training tile count in File 1: 2188\n",
      "Training tile count in File 2: 2188\n",
      "Shared tileids: 2188\n",
      "Only in File 1: 0\n",
      "Only in File 2: 0\n",
      "\n",
      "=== VALIDATION ===\n",
      "Validation tile count in File 1: 729\n",
      "Validation tile count in File 2: 729\n",
      "Shared tileids: 729\n",
      "Only in File 1: 0\n",
      "Only in File 2: 0\n",
      "\n",
      "=== TESTING ===\n",
      "Testing tile count in File 1: 731\n",
      "Testing tile count in File 2: 731\n",
      "Shared tileids: 731\n",
      "Only in File 1: 0\n",
      "Only in File 2: 0\n"
     ]
    }
   ],
   "source": [
    "import json\n",
    "\n",
    "def load_json_tileids(filepath):\n",
    "    with open(filepath, 'r') as f:\n",
    "        data = json.load(f)\n",
    "\n",
    "    return {\n",
    "        \"training\": set(entry[\"tileid\"] for entry in data.get(\"training\", [])),\n",
    "        \"validation\": set(entry[\"tileid\"] for entry in data.get(\"validation\", [])),\n",
    "        \"testing\": set(entry[\"tileid\"] for entry in data.get(\"testing\", [])),\n",
    "    }\n",
    "\n",
    "# Prompt for file paths\n",
    "file1_path = input(\"Enter the path to the first JSON file: \").strip('\"')\n",
    "file2_path = input(\"Enter the path to the second JSON file: \").strip('\"')\n",
    "\n",
    "# Load and compare tileids\n",
    "tiles1 = load_json_tileids(file1_path)\n",
    "tiles2 = load_json_tileids(file2_path)\n",
    "\n",
    "splits = [\"training\", \"validation\", \"testing\"]\n",
    "\n",
    "for split in splits:\n",
    "    print(f\"\\n=== {split.upper()} ===\")\n",
    "    ids1 = tiles1[split]\n",
    "    ids2 = tiles2[split]\n",
    "\n",
    "    print(f\"{split.capitalize()} tile count in File 1: {len(ids1)}\")\n",
    "    print(f\"{split.capitalize()} tile count in File 2: {len(ids2)}\")\n",
    "    print(f\"Shared tileids: {len(ids1 & ids2)}\")\n",
    "    print(f\"Only in File 1: {len(ids1 - ids2)}\")\n",
    "    print(f\"Only in File 2: {len(ids2 - ids1)}\")\n"
   ]
  },
  {
   "cell_type": "code",
   "execution_count": null,
   "id": "2fff7ae4-627c-46e1-bcb1-191f6671717d",
   "metadata": {},
   "outputs": [],
   "source": []
  },
  {
   "cell_type": "code",
   "execution_count": null,
   "id": "d9e56a4a-4505-46c2-b9e3-e22c07abf8b2",
   "metadata": {},
   "outputs": [],
   "source": []
  }
 ],
 "metadata": {
  "kernelspec": {
   "display_name": "Python 3 (ipykernel)",
   "language": "python",
   "name": "python3"
  },
  "language_info": {
   "codemirror_mode": {
    "name": "ipython",
    "version": 3
   },
   "file_extension": ".py",
   "mimetype": "text/x-python",
   "name": "python",
   "nbconvert_exporter": "python",
   "pygments_lexer": "ipython3",
   "version": "3.12.7"
  }
 },
 "nbformat": 4,
 "nbformat_minor": 5
}
