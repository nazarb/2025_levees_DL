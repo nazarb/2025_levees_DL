{
 "cells": [
  {
   "cell_type": "code",
   "execution_count": null,
   "id": "a055bf5c-8daa-4011-85df-fa94ef9b6217",
   "metadata": {},
   "outputs": [],
   "source": [
    "# cd your_location\n",
    "cd c:/ml/"
   ]
  },
  {
   "cell_type": "markdown",
   "id": "23ab8aba-53d1-4cfd-832d-864cafe9007c",
   "metadata": {},
   "source": [
    "# Specify files and split them to a specific size"
   ]
  },
  {
   "cell_type": "code",
   "execution_count": 2,
   "id": "8b47796e-9a0a-455d-96ac-882fd6fd8fea",
   "metadata": {},
   "outputs": [
    {
     "name": "stdout",
     "output_type": "stream",
     "text": [
      "C:\\ML\\UNET_tensorflow2_10\\dataset_create\\raster/raster_raw\\CFE_f_selected_L5_S2_S1_MSRM_PCA_N48_.tif\n",
      "C:\\ML\\UNET_tensorflow2_10\\dataset_create\\y_layers\\CFE_levee_f.tif\n"
     ]
    }
   ],
   "source": [
    "import os\n",
    "from geotile import GeoTile\n",
    "\n",
    "# Create directories to save the numpy arrays\n",
    "os.makedirs('./raster/images', exist_ok=True)\n",
    "os.makedirs('./raster/masks', exist_ok=True)\n",
    "\n",
    "# Set up file paths\n",
    "path = os.getcwd()\n",
    "name_TRAIN_X = \"CFE_f_selected_L5_S2_S1_MSRM_PCA_N48_\"\n",
    "name_TRAIN_Y = \"CFE_levee_f\"\n",
    "\n",
    "PATH_TRAIN_X = os.path.join(path, \"raster/raster_raw\", name_TRAIN_X + \".tif\")\n",
    "PATH_TRAIN_Y = os.path.join(path, \"y_layers\", name_TRAIN_Y + \".tif\")\n",
    "\n",
    "tile_size = 96\n",
    "\n",
    "print(PATH_TRAIN_X)\n",
    "print(PATH_TRAIN_Y)\n",
    "\n",
    "### Continue processing\n",
    "\n",
    "# Generate training tiles\n",
    "gt_train = GeoTile(PATH_TRAIN_X)\n",
    "gt_train.meta\n",
    "gt_train.generate_tiles(\n",
    "    os.path.join(path, 'raster/images'),\n",
    "    tile_x=tile_size,\n",
    "    tile_y=tile_size,\n",
    "    stride_x=tile_size,\n",
    "    stride_y=tile_size,\n",
    "    prefix=name_TRAIN_X+'_'\n",
    ")\n",
    "\n",
    "gt_train_y = GeoTile(PATH_TRAIN_Y)\n",
    "gt_train_y.generate_tiles(\n",
    "    os.path.join(path, 'raster/masks'),\n",
    "    tile_x=tile_size,\n",
    "    tile_y=tile_size,\n",
    "    stride_x=tile_size,\n",
    "    stride_y=tile_size,\n",
    "    prefix=name_TRAIN_X+'_'\n",
    ")\n",
    "\n",
    "\n"
   ]
  },
  {
   "cell_type": "markdown",
   "id": "42f9a935-6060-40cd-ab8f-4c40829870a9",
   "metadata": {},
   "source": [
    "# Convert to NPY arrays"
   ]
  },
  {
   "cell_type": "code",
   "execution_count": 4,
   "id": "ec7b091d-d1b0-4a24-bf6d-c33e4dbc964c",
   "metadata": {},
   "outputs": [
    {
     "name": "stdout",
     "output_type": "stream",
     "text": [
      "Conversion to NumPy arrays completed.\n"
     ]
    }
   ],
   "source": [
    "import os\n",
    "import numpy as np\n",
    "import glob\n",
    "import rasterio\n",
    "\n",
    "# Create directories to save the numpy arrays\n",
    "os.makedirs('./raster/npy_images', exist_ok=True)\n",
    "os.makedirs('./raster/npy_masks', exist_ok=True)\n",
    "\n",
    "# Function to convert TIFF to NumPy and save, replacing NaNs with zeros\n",
    "def convert_tiff_to_npy(image_path, output_dir):\n",
    "    with rasterio.open(image_path) as image:\n",
    "        np_image = image.read()  # Read the image data\n",
    "        np_image = np.nan_to_num(np_image)  # Replace NaNs with zeros\n",
    "    output_path = os.path.join(output_dir, os.path.basename(image_path).replace('.tif', '.npy'))\n",
    "    np.save(output_path, np_image)\n",
    "    return output_path\n",
    "\n",
    "# Convert all images\n",
    "image_files = glob.glob('./raster/images/*.tif')\n",
    "mask_files = glob.glob('./raster/masks/*.tif')\n",
    "\n",
    "converted_images = [convert_tiff_to_npy(img, './raster/npy_images') for img in image_files]\n",
    "converted_masks = [convert_tiff_to_npy(msk, './raster/npy_masks') for msk in mask_files]\n",
    "\n",
    "print(\"Conversion to NumPy arrays completed.\")\n",
    "\n"
   ]
  },
  {
   "cell_type": "code",
   "execution_count": null,
   "id": "b0c36810-605c-4fad-8760-d90b8a3d638e",
   "metadata": {},
   "outputs": [],
   "source": []
  }
 ],
 "metadata": {
  "kernelspec": {
   "display_name": "Python 3 (ipykernel)",
   "language": "python",
   "name": "python3"
  },
  "language_info": {
   "codemirror_mode": {
    "name": "ipython",
    "version": 3
   },
   "file_extension": ".py",
   "mimetype": "text/x-python",
   "name": "python",
   "nbconvert_exporter": "python",
   "pygments_lexer": "ipython3",
   "version": "3.12.7"
  }
 },
 "nbformat": 4,
 "nbformat_minor": 5
}
