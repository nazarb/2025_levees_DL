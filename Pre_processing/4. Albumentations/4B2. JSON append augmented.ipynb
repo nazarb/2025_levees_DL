{
 "cells": [
  {
   "cell_type": "markdown",
   "id": "d47eca9b-f768-4fb9-bb96-48a2e01a3bb0",
   "metadata": {},
   "source": [
    "# 4B. JSON Append augmented tiles to JSON"
   ]
  },
  {
   "cell_type": "code",
   "execution_count": null,
   "id": "dc3c400b-ed4b-40e7-87f7-83c025b1d2aa",
   "metadata": {},
   "outputs": [],
   "source": [
    "# The purpose of this code is to open the dataset_bin.JSON file and add new lines, which correspond to newly created augmented tiles and save a new version of JSON\n",
    "# The use of this individual code instead of \"4B. JSON merge\" makes sure the specific tiles and their augmented version are only in train, validation or test data - to prevent the data leakage "
   ]
  },
  {
   "cell_type": "code",
   "execution_count": 6,
   "id": "39d4fc20-9a86-4f16-b917-b898984b72bf",
   "metadata": {},
   "outputs": [
    {
     "name": "stdout",
     "output_type": "stream",
     "text": [
      "Added 1824 augmented samples.\n",
      "Updated JSON saved to: E:/ML/Levees/Datasets/N48/dataset_bin_48/dataset_bin_up.json\n"
     ]
    }
   ],
   "source": [
    "import os\n",
    "import json\n",
    "\n",
    "def load_json(json_path):\n",
    "    with open(json_path, 'r') as f:\n",
    "        return json.load(f)\n",
    "\n",
    "def save_json(data, output_path):\n",
    "    with open(output_path, 'w') as f:\n",
    "        json.dump(data, f, indent=4)\n",
    "\n",
    "def get_tileid_set(split):\n",
    "    return {entry[\"tileid\"]: entry for entry in split}\n",
    "\n",
    "def augment_dataset(json_path, augmented_dir_images, augmented_dir_labels, output_json_path=None):\n",
    "    data = load_json(json_path)\n",
    "\n",
    "    # Mapping of tileid to split\n",
    "    training_tiles = get_tileid_set(data.get(\"training\", []))\n",
    "    validation_tiles = get_tileid_set(data.get(\"validation\", []))\n",
    "    testing_tiles = get_tileid_set(data.get(\"testing\", []))\n",
    "\n",
    "    all_tile_sets = {\n",
    "        \"training\": training_tiles,\n",
    "        \"validation\": validation_tiles,\n",
    "        \"testing\": testing_tiles\n",
    "    }\n",
    "\n",
    "    aug_files = os.listdir(augmented_dir_images)\n",
    "    added_count = 0\n",
    "\n",
    "    for file in aug_files:\n",
    "        if \"_aug\" in file and file.endswith('.npy'):\n",
    "            tile_base = file.split('_aug')[0]\n",
    "\n",
    "            for split_name, tile_dict in all_tile_sets.items():\n",
    "                if tile_base in tile_dict:\n",
    "                    aug_entry = {\n",
    "                        \"image\": f\"data/npy_images/{file}\",\n",
    "                        \"label\": f\"data/npy_masks/{file}\",\n",
    "                        \"tileid\": tile_base\n",
    "                    }\n",
    "                    data[split_name].append(aug_entry)\n",
    "                    added_count += 1\n",
    "                    break\n",
    "\n",
    "    print(f\"Added {added_count} augmented samples.\")\n",
    "\n",
    "    output_path = output_json_path or json_path\n",
    "    save_json(data, output_path)\n",
    "    print(f\"Updated JSON saved to: {output_path}\")\n",
    "\n",
    "# === USAGE ===\n",
    "json_input = \"E:/ML/Levees/Datasets/N48/dataset_bin_48/dataset_bin.json\"                # Path to original JSON\n",
    "augmented_folder_images = \"E:/ML/Levees/Datasets/N48/dataset_bin_48/npy_images_\"     # Folder with augmented image files\n",
    "augmented_folder_labels = \"E:/ML/Levees/Datasets/N48/dataset_bin_48/npy_masks_\"      # Folder with augmented mask files\n",
    "json_output = \"E:/ML/Levees/Datasets/N48/dataset_bin_48/dataset_bin_up.json\"       # Output path for updated JSON\n",
    "\n",
    "augment_dataset(json_input, augmented_folder_images, augmented_folder_labels, json_output)\n"
   ]
  },
  {
   "cell_type": "code",
   "execution_count": null,
   "id": "bb9f17b4-b660-4334-bb5a-e8754d6e1410",
   "metadata": {},
   "outputs": [],
   "source": []
  }
 ],
 "metadata": {
  "kernelspec": {
   "display_name": "Python 3 (ipykernel)",
   "language": "python",
   "name": "python3"
  },
  "language_info": {
   "codemirror_mode": {
    "name": "ipython",
    "version": 3
   },
   "file_extension": ".py",
   "mimetype": "text/x-python",
   "name": "python",
   "nbconvert_exporter": "python",
   "pygments_lexer": "ipython3",
   "version": "3.12.7"
  }
 },
 "nbformat": 4,
 "nbformat_minor": 5
}
