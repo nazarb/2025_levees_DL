{
 "cells": [
  {
   "cell_type": "markdown",
   "id": "72ed5c41-485f-45e2-b66d-5ab4a473ab2f",
   "metadata": {},
   "source": [
    "# The code is used to shuffle the data within the train, validation and test sets\n",
    "## The data leakage prevention mechanism is added"
   ]
  },
  {
   "cell_type": "code",
   "execution_count": 3,
   "id": "756d1651-f932-48d8-886d-2e557ff64128",
   "metadata": {},
   "outputs": [
    {
     "name": "stdin",
     "output_type": "stream",
     "text": [
      "Enter the path to the input JSON file:  \"E:\\ML\\Levees\\Datasets\\N48XL\\dataset_bin.json\"\n",
      "Enter the path to the output JSON file:  \"E:\\ML\\Levees\\Datasets\\N48XL\\dataset_bin_B.json\"\n"
     ]
    },
    {
     "name": "stdout",
     "output_type": "stream",
     "text": [
      "Shuffled dataset saved to E:\\ML\\Levees\\Datasets\\N48XL\\dataset_bin_B.json\n"
     ]
    }
   ],
   "source": [
    "import json\n",
    "import random\n",
    "\n",
    "def shuffle_dataset(input_json, output_json):\n",
    "    # Load the dataset from JSON\n",
    "    with open(input_json, 'r') as f:\n",
    "        data = json.load(f)\n",
    "\n",
    "    # Function to shuffle a list of dictionaries in-place\n",
    "    def shuffle_split(split):\n",
    "        random.shuffle(split)\n",
    "        return split\n",
    "\n",
    "    # Shuffle each dataset split\n",
    "    data['training'] = shuffle_split(data.get('training', []))\n",
    "    data['validation'] = shuffle_split(data.get('validation', []))\n",
    "    data['testing'] = shuffle_split(data.get('testing', []))\n",
    "\n",
    "    # Save to a new JSON file\n",
    "    with open(output_json, 'w') as f:\n",
    "        json.dump(data, f, indent=4)\n",
    "\n",
    "    print(f\"Shuffled dataset saved to {output_json}\")\n",
    "\n",
    "# Example usage\n",
    "input_json = input(\"Enter the path to the input JSON file: \").strip('\"')\n",
    "output_json = input(\"Enter the path to the output JSON file: \").strip('\"')\n",
    "shuffle_dataset(input_json, output_json)\n"
   ]
  },
  {
   "cell_type": "code",
   "execution_count": null,
   "id": "8e43a706-9737-4afb-9b00-79c2923ca979",
   "metadata": {},
   "outputs": [],
   "source": []
  }
 ],
 "metadata": {
  "kernelspec": {
   "display_name": "Python 3 (ipykernel)",
   "language": "python",
   "name": "python3"
  },
  "language_info": {
   "codemirror_mode": {
    "name": "ipython",
    "version": 3
   },
   "file_extension": ".py",
   "mimetype": "text/x-python",
   "name": "python",
   "nbconvert_exporter": "python",
   "pygments_lexer": "ipython3",
   "version": "3.12.7"
  }
 },
 "nbformat": 4,
 "nbformat_minor": 5
}
