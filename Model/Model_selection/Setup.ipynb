{
 "cells": [
  {
   "cell_type": "markdown",
   "id": "e7825c90-b1f1-47b0-803a-e7aa1401ad60",
   "metadata": {},
   "source": [
    "# Install the libraries before trianing the model"
   ]
  },
  {
   "cell_type": "code",
   "execution_count": null,
   "id": "3425db4d-bba7-43d2-8f52-9a1b95842796",
   "metadata": {},
   "outputs": [],
   "source": [
    "!pip install seaborn"
   ]
  },
  {
   "cell_type": "code",
   "execution_count": null,
   "id": "7b3b65e3-39d9-44e1-b06e-e0ea78e15f6d",
   "metadata": {},
   "outputs": [],
   "source": [
    "!pip install pynvml"
   ]
  },
  {
   "cell_type": "code",
   "execution_count": null,
   "id": "7d689eb3-10b4-453e-aec8-407fb00b6cb9",
   "metadata": {},
   "outputs": [],
   "source": [
    "!pip install tensorboard"
   ]
  },
  {
   "cell_type": "code",
   "execution_count": null,
   "id": "4a21161e-3e66-4979-a6ad-e4e153a00a61",
   "metadata": {},
   "outputs": [],
   "source": [
    "!jupyter notebook --debug\n"
   ]
  },
  {
   "cell_type": "code",
   "execution_count": null,
   "id": "4af1af70-96c7-4b1c-8c5f-c20ed45fec0b",
   "metadata": {},
   "outputs": [],
   "source": []
  },
  {
   "cell_type": "code",
   "execution_count": null,
   "id": "8d5b5840-4d34-4ca2-98ca-4632ccb6117a",
   "metadata": {},
   "outputs": [],
   "source": []
  }
 ],
 "metadata": {
  "kernelspec": {
   "display_name": "Python 3 (ipykernel)",
   "language": "python",
   "name": "python3"
  },
  "language_info": {
   "codemirror_mode": {
    "name": "ipython",
    "version": 3
   },
   "file_extension": ".py",
   "mimetype": "text/x-python",
   "name": "python",
   "nbconvert_exporter": "python",
   "pygments_lexer": "ipython3",
   "version": "3.12.7"
  }
 },
 "nbformat": 4,
 "nbformat_minor": 5
}
