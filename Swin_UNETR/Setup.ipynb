{
 "cells": [
  {
   "cell_type": "code",
   "execution_count": 1,
   "id": "3425db4d-bba7-43d2-8f52-9a1b95842796",
   "metadata": {},
   "outputs": [
    {
     "name": "stdout",
     "output_type": "stream",
     "text": [
      "Collecting seaborn\n",
      "  Downloading seaborn-0.13.2-py3-none-any.whl.metadata (5.4 kB)\n",
      "Requirement already satisfied: numpy!=1.24.0,>=1.20 in /usr/local/lib/python3.10/dist-packages (from seaborn) (1.25.2)\n",
      "Requirement already satisfied: pandas>=1.2 in /usr/local/lib/python3.10/dist-packages (from seaborn) (2.2.2)\n",
      "Requirement already satisfied: matplotlib!=3.6.1,>=3.4 in /usr/local/lib/python3.10/dist-packages (from seaborn) (3.7.2)\n",
      "Requirement already satisfied: contourpy>=1.0.1 in /usr/local/lib/python3.10/dist-packages (from matplotlib!=3.6.1,>=3.4->seaborn) (1.2.1)\n",
      "Requirement already satisfied: cycler>=0.10 in /usr/local/lib/python3.10/dist-packages (from matplotlib!=3.6.1,>=3.4->seaborn) (0.12.1)\n",
      "Requirement already satisfied: fonttools>=4.22.0 in /usr/local/lib/python3.10/dist-packages (from matplotlib!=3.6.1,>=3.4->seaborn) (4.53.1)\n",
      "Requirement already satisfied: kiwisolver>=1.0.1 in /usr/local/lib/python3.10/dist-packages (from matplotlib!=3.6.1,>=3.4->seaborn) (1.4.5)\n",
      "Requirement already satisfied: packaging>=20.0 in /usr/local/lib/python3.10/dist-packages (from matplotlib!=3.6.1,>=3.4->seaborn) (24.1)\n",
      "Requirement already satisfied: pillow>=6.2.0 in /usr/local/lib/python3.10/dist-packages (from matplotlib!=3.6.1,>=3.4->seaborn) (10.4.0)\n",
      "Requirement already satisfied: pyparsing<3.1,>=2.3.1 in /usr/local/lib/python3.10/dist-packages (from matplotlib!=3.6.1,>=3.4->seaborn) (3.0.9)\n",
      "Requirement already satisfied: python-dateutil>=2.7 in /usr/local/lib/python3.10/dist-packages (from matplotlib!=3.6.1,>=3.4->seaborn) (2.9.0.post0)\n",
      "Requirement already satisfied: pytz>=2020.1 in /usr/local/lib/python3.10/dist-packages (from pandas>=1.2->seaborn) (2024.1)\n",
      "Requirement already satisfied: tzdata>=2022.7 in /usr/local/lib/python3.10/dist-packages (from pandas>=1.2->seaborn) (2024.1)\n",
      "Requirement already satisfied: six>=1.5 in /usr/local/lib/python3.10/dist-packages (from python-dateutil>=2.7->matplotlib!=3.6.1,>=3.4->seaborn) (1.16.0)\n",
      "Downloading seaborn-0.13.2-py3-none-any.whl (294 kB)\n",
      "Installing collected packages: seaborn\n",
      "Successfully installed seaborn-0.13.2\n",
      "\u001b[33mWARNING: Running pip as the 'root' user can result in broken permissions and conflicting behaviour with the system package manager, possibly rendering your system unusable.It is recommended to use a virtual environment instead: https://pip.pypa.io/warnings/venv. Use the --root-user-action option if you know what you are doing and want to suppress this warning.\u001b[0m\u001b[33m\n",
      "\u001b[0m\n",
      "\u001b[1m[\u001b[0m\u001b[34;49mnotice\u001b[0m\u001b[1;39;49m]\u001b[0m\u001b[39;49m A new release of pip is available: \u001b[0m\u001b[31;49m24.2\u001b[0m\u001b[39;49m -> \u001b[0m\u001b[32;49m25.0\u001b[0m\n",
      "\u001b[1m[\u001b[0m\u001b[34;49mnotice\u001b[0m\u001b[1;39;49m]\u001b[0m\u001b[39;49m To update, run: \u001b[0m\u001b[32;49mpython3 -m pip install --upgrade pip\u001b[0m\n"
     ]
    }
   ],
   "source": [
    "!pip install seaborn"
   ]
  },
  {
   "cell_type": "code",
   "execution_count": 2,
   "id": "7b3b65e3-39d9-44e1-b06e-e0ea78e15f6d",
   "metadata": {},
   "outputs": [
    {
     "name": "stdout",
     "output_type": "stream",
     "text": [
      "Collecting pynvml\n",
      "  Downloading pynvml-12.0.0-py3-none-any.whl.metadata (5.4 kB)\n",
      "Collecting nvidia-ml-py<13.0.0a0,>=12.0.0 (from pynvml)\n",
      "  Downloading nvidia_ml_py-12.570.86-py3-none-any.whl.metadata (8.7 kB)\n",
      "Downloading pynvml-12.0.0-py3-none-any.whl (26 kB)\n",
      "Downloading nvidia_ml_py-12.570.86-py3-none-any.whl (44 kB)\n",
      "Installing collected packages: nvidia-ml-py, pynvml\n",
      "Successfully installed nvidia-ml-py-12.570.86 pynvml-12.0.0\n",
      "\u001b[33mWARNING: Running pip as the 'root' user can result in broken permissions and conflicting behaviour with the system package manager, possibly rendering your system unusable.It is recommended to use a virtual environment instead: https://pip.pypa.io/warnings/venv. Use the --root-user-action option if you know what you are doing and want to suppress this warning.\u001b[0m\u001b[33m\n",
      "\u001b[0m\n",
      "\u001b[1m[\u001b[0m\u001b[34;49mnotice\u001b[0m\u001b[1;39;49m]\u001b[0m\u001b[39;49m A new release of pip is available: \u001b[0m\u001b[31;49m24.2\u001b[0m\u001b[39;49m -> \u001b[0m\u001b[32;49m25.0\u001b[0m\n",
      "\u001b[1m[\u001b[0m\u001b[34;49mnotice\u001b[0m\u001b[1;39;49m]\u001b[0m\u001b[39;49m To update, run: \u001b[0m\u001b[32;49mpython3 -m pip install --upgrade pip\u001b[0m\n"
     ]
    }
   ],
   "source": [
    "!pip install pynvml"
   ]
  },
  {
   "cell_type": "code",
   "execution_count": 3,
   "id": "7d689eb3-10b4-453e-aec8-407fb00b6cb9",
   "metadata": {},
   "outputs": [
    {
     "name": "stdout",
     "output_type": "stream",
     "text": [
      "Collecting tensorboard\n",
      "  Downloading tensorboard-2.18.0-py3-none-any.whl.metadata (1.6 kB)\n",
      "Collecting absl-py>=0.4 (from tensorboard)\n",
      "  Downloading absl_py-2.1.0-py3-none-any.whl.metadata (2.3 kB)\n",
      "Collecting grpcio>=1.48.2 (from tensorboard)\n",
      "  Downloading grpcio-1.70.0-cp310-cp310-manylinux_2_17_x86_64.manylinux2014_x86_64.whl.metadata (3.9 kB)\n",
      "Requirement already satisfied: markdown>=2.6.8 in /usr/local/lib/python3.10/dist-packages (from tensorboard) (3.6)\n",
      "Requirement already satisfied: numpy>=1.12.0 in /usr/local/lib/python3.10/dist-packages (from tensorboard) (1.25.2)\n",
      "Requirement already satisfied: packaging in /usr/local/lib/python3.10/dist-packages (from tensorboard) (24.1)\n",
      "Requirement already satisfied: protobuf!=4.24.0,>=3.19.6 in /usr/local/lib/python3.10/dist-packages (from tensorboard) (5.27.2)\n",
      "Requirement already satisfied: setuptools>=41.0.0 in /usr/lib/python3/dist-packages (from tensorboard) (59.6.0)\n",
      "Requirement already satisfied: six>1.9 in /usr/local/lib/python3.10/dist-packages (from tensorboard) (1.16.0)\n",
      "Collecting tensorboard-data-server<0.8.0,>=0.7.0 (from tensorboard)\n",
      "  Downloading tensorboard_data_server-0.7.2-py3-none-manylinux_2_31_x86_64.whl.metadata (1.1 kB)\n",
      "Collecting werkzeug>=1.0.1 (from tensorboard)\n",
      "  Downloading werkzeug-3.1.3-py3-none-any.whl.metadata (3.7 kB)\n",
      "Requirement already satisfied: MarkupSafe>=2.1.1 in /usr/local/lib/python3.10/dist-packages (from werkzeug>=1.0.1->tensorboard) (2.1.5)\n",
      "Downloading tensorboard-2.18.0-py3-none-any.whl (5.5 MB)\n",
      "\u001b[2K   \u001b[90m━━━━━━━━━━━━━━━━━━━━━━━━━━━━━━━━━━━━━━━━\u001b[0m \u001b[32m5.5/5.5 MB\u001b[0m \u001b[31m64.9 MB/s\u001b[0m eta \u001b[36m0:00:00\u001b[0m\n",
      "\u001b[?25hDownloading absl_py-2.1.0-py3-none-any.whl (133 kB)\n",
      "Downloading grpcio-1.70.0-cp310-cp310-manylinux_2_17_x86_64.manylinux2014_x86_64.whl (5.9 MB)\n",
      "\u001b[2K   \u001b[90m━━━━━━━━━━━━━━━━━━━━━━━━━━━━━━━━━━━━━━━━\u001b[0m \u001b[32m5.9/5.9 MB\u001b[0m \u001b[31m100.1 MB/s\u001b[0m eta \u001b[36m0:00:00\u001b[0m\n",
      "\u001b[?25hDownloading tensorboard_data_server-0.7.2-py3-none-manylinux_2_31_x86_64.whl (6.6 MB)\n",
      "\u001b[2K   \u001b[90m━━━━━━━━━━━━━━━━━━━━━━━━━━━━━━━━━━━━━━━━\u001b[0m \u001b[32m6.6/6.6 MB\u001b[0m \u001b[31m99.4 MB/s\u001b[0m eta \u001b[36m0:00:00\u001b[0m\n",
      "\u001b[?25hDownloading werkzeug-3.1.3-py3-none-any.whl (224 kB)\n",
      "Installing collected packages: werkzeug, tensorboard-data-server, grpcio, absl-py, tensorboard\n",
      "Successfully installed absl-py-2.1.0 grpcio-1.70.0 tensorboard-2.18.0 tensorboard-data-server-0.7.2 werkzeug-3.1.3\n",
      "\u001b[33mWARNING: Running pip as the 'root' user can result in broken permissions and conflicting behaviour with the system package manager, possibly rendering your system unusable.It is recommended to use a virtual environment instead: https://pip.pypa.io/warnings/venv. Use the --root-user-action option if you know what you are doing and want to suppress this warning.\u001b[0m\u001b[33m\n",
      "\u001b[0m\n",
      "\u001b[1m[\u001b[0m\u001b[34;49mnotice\u001b[0m\u001b[1;39;49m]\u001b[0m\u001b[39;49m A new release of pip is available: \u001b[0m\u001b[31;49m24.2\u001b[0m\u001b[39;49m -> \u001b[0m\u001b[32;49m25.0\u001b[0m\n",
      "\u001b[1m[\u001b[0m\u001b[34;49mnotice\u001b[0m\u001b[1;39;49m]\u001b[0m\u001b[39;49m To update, run: \u001b[0m\u001b[32;49mpython3 -m pip install --upgrade pip\u001b[0m\n"
     ]
    }
   ],
   "source": [
    "!pip install tensorboard"
   ]
  },
  {
   "cell_type": "code",
   "execution_count": 4,
   "id": "4a21161e-3e66-4979-a6ad-e4e153a00a61",
   "metadata": {},
   "outputs": [
    {
     "name": "stdout",
     "output_type": "stream",
     "text": [
      "\u001b[34m[D 2025-02-06 09:13:19.082 ServerApp]\u001b[m Searching ['/root/.jupyter', '/root/.local/etc/jupyter', '/usr/etc/jupyter', '/usr/local/etc/jupyter', '/etc/jupyter'] for config files\n",
      "\u001b[34m[D 2025-02-06 09:13:19.082 ServerApp]\u001b[m Looking for jupyter_config in /etc/jupyter\n",
      "\u001b[34m[D 2025-02-06 09:13:19.082 ServerApp]\u001b[m Looking for jupyter_config in /usr/local/etc/jupyter\n",
      "\u001b[34m[D 2025-02-06 09:13:19.082 ServerApp]\u001b[m Looking for jupyter_config in /usr/etc/jupyter\n",
      "\u001b[34m[D 2025-02-06 09:13:19.082 ServerApp]\u001b[m Looking for jupyter_config in /root/.local/etc/jupyter\n",
      "\u001b[34m[D 2025-02-06 09:13:19.082 ServerApp]\u001b[m Looking for jupyter_config in /root/.jupyter\n",
      "\u001b[34m[D 2025-02-06 09:13:19.083 ServerApp]\u001b[m Looking for jupyter_server_config in /etc/jupyter\n",
      "\u001b[34m[D 2025-02-06 09:13:19.083 ServerApp]\u001b[m Looking for jupyter_server_config in /usr/local/etc/jupyter\n",
      "\u001b[34m[D 2025-02-06 09:13:19.083 ServerApp]\u001b[m Looking for jupyter_server_config in /usr/etc/jupyter\n",
      "\u001b[34m[D 2025-02-06 09:13:19.083 ServerApp]\u001b[m Looking for jupyter_server_config in /root/.local/etc/jupyter\n",
      "\u001b[34m[D 2025-02-06 09:13:19.083 ServerApp]\u001b[m Looking for jupyter_server_config in /root/.jupyter\n",
      "\u001b[34m[D 2025-02-06 09:13:19.085 ServerApp]\u001b[m Paths used for configuration of jupyter_server_config: \n",
      "    \t/etc/jupyter/jupyter_server_config.json\n",
      "\u001b[34m[D 2025-02-06 09:13:19.086 ServerApp]\u001b[m Paths used for configuration of jupyter_server_config: \n",
      "    \t/usr/local/etc/jupyter/jupyter_server_config.d/jupyter-lsp-jupyter-server.json\n",
      "    \t/usr/local/etc/jupyter/jupyter_server_config.d/jupyter_server_terminals.json\n",
      "    \t/usr/local/etc/jupyter/jupyter_server_config.d/jupyterlab.json\n",
      "    \t/usr/local/etc/jupyter/jupyter_server_config.d/notebook.json\n",
      "    \t/usr/local/etc/jupyter/jupyter_server_config.d/notebook_shim.json\n",
      "    \t/usr/local/etc/jupyter/jupyter_server_config.d/panel-client-jupyter.json\n",
      "    \t/usr/local/etc/jupyter/jupyter_server_config.json\n",
      "\u001b[34m[D 2025-02-06 09:13:19.086 ServerApp]\u001b[m Paths used for configuration of jupyter_server_config: \n",
      "    \t/usr/etc/jupyter/jupyter_server_config.json\n",
      "\u001b[34m[D 2025-02-06 09:13:19.086 ServerApp]\u001b[m Paths used for configuration of jupyter_server_config: \n",
      "    \t/root/.local/etc/jupyter/jupyter_server_config.json\n",
      "\u001b[34m[D 2025-02-06 09:13:19.086 ServerApp]\u001b[m Paths used for configuration of jupyter_server_config: \n",
      "    \t/root/.jupyter/jupyter_server_config.json\n",
      "\u001b[34m[D 2025-02-06 09:13:19.090 ServerApp]\u001b[m Extension package notebook took 0.0000s to import\n",
      "\u001b[34m[D 2025-02-06 09:13:19.099 ServerApp]\u001b[m Extension package jupyter_lsp took 0.0082s to import\n",
      "\u001b[34m[D 2025-02-06 09:13:19.102 ServerApp]\u001b[m Extension package jupyter_server_terminals took 0.0033s to import\n",
      "\u001b[34m[D 2025-02-06 09:13:19.103 ServerApp]\u001b[m Extension package jupyterlab took 0.0000s to import\n",
      "\u001b[34m[D 2025-02-06 09:13:19.184 ServerApp]\u001b[m Paths used for configuration of page_config: \n",
      "    \t/usr/etc/jupyter/labconfig/page_config.json\n",
      "\u001b[34m[D 2025-02-06 09:13:19.185 ServerApp]\u001b[m Paths used for configuration of page_config: \n",
      "    \t\n",
      "\u001b[34m[D 2025-02-06 09:13:19.189 ServerApp]\u001b[m Extension package notebook_shim took 0.0000s to import\n",
      "\u001b[32m[I 2025-02-06 09:13:19.917 ServerApp]\u001b[m Extension package panel.io.jupyter_server_extension took 0.7279s to import\n",
      "\u001b[34m[D 2025-02-06 09:13:19.918 ServerApp]\u001b[m A `_jupyter_server_extension_points` function was not found in panel.io.jupyter_server_extension, so Jupyter Server will look for extension points in the extension pacakge's root.\n",
      "\u001b[32m[I 2025-02-06 09:13:19.918 ServerApp]\u001b[m jupyter_lsp | extension was successfully linked.\n",
      "\u001b[34m[D 2025-02-06 09:13:19.923 TerminalsExtensionApp]\u001b[m Config changed: {'ServerApp': {'log_level': 'DEBUG', 'jpserver_extensions': <LazyConfigValue {'update': {'jupyter_lsp': True, 'jupyter_server_terminals': True, 'jupyterlab': True, 'notebook_shim': True, 'panel.io.jupyter_server_extension': True}}>}, 'ExtensionApp': {'log_level': 'DEBUG'}}\n",
      "\u001b[34m[D 2025-02-06 09:13:19.924 ServerApp]\u001b[m Config changed: {'ServerApp': {'log_level': 'DEBUG', 'jpserver_extensions': <LazyConfigValue value={'notebook': True, 'jupyter_lsp': True, 'jupyter_server_terminals': True, 'jupyterlab': True, 'notebook_shim': True, 'panel.io.jupyter_server_extension': True}>}, 'ExtensionApp': {'log_level': 'DEBUG'}}\n",
      "\u001b[32m[I 2025-02-06 09:13:19.925 ServerApp]\u001b[m jupyter_server_terminals | extension was successfully linked.\n",
      "\u001b[34m[D 2025-02-06 09:13:19.929 LabApp]\u001b[m Config changed: {'NotebookApp': {}, 'ServerApp': {'log_level': 'DEBUG', 'jpserver_extensions': <LazyConfigValue value={'notebook': True, 'jupyter_lsp': True, 'jupyter_server_terminals': True, 'jupyterlab': True, 'notebook_shim': True, 'panel.io.jupyter_server_extension': True}>}, 'ExtensionApp': {'log_level': 'DEBUG'}}\n",
      "\u001b[32m[I 2025-02-06 09:13:19.930 ServerApp]\u001b[m jupyterlab | extension was successfully linked.\n",
      "\u001b[34m[D 2025-02-06 09:13:19.934 JupyterNotebookApp]\u001b[m Config changed: {'NotebookApp': {}, 'ServerApp': {'log_level': 'DEBUG', 'jpserver_extensions': <LazyConfigValue value={'notebook': True, 'jupyter_lsp': True, 'jupyter_server_terminals': True, 'jupyterlab': True, 'notebook_shim': True, 'panel.io.jupyter_server_extension': True}>}, 'ExtensionApp': {'log_level': 'DEBUG'}}\n",
      "\u001b[32m[I 2025-02-06 09:13:19.935 ServerApp]\u001b[m notebook | extension was successfully linked.\n",
      "\u001b[34m[D 2025-02-06 09:13:20.070 ServerApp]\u001b[m Paths used for configuration of jupyter_notebook_config: \n",
      "    \t/root/.jupyter/jupyter_notebook_config.json\n",
      "\u001b[34m[D 2025-02-06 09:13:20.070 ServerApp]\u001b[m Paths used for configuration of jupyter_notebook_config: \n",
      "    \t/etc/jupyter/jupyter_notebook_config.json\n",
      "\u001b[34m[D 2025-02-06 09:13:20.071 ServerApp]\u001b[m Paths used for configuration of jupyter_notebook_config: \n",
      "    \t/usr/local/etc/jupyter/jupyter_notebook_config.d/jupyterlab.json\n",
      "    \t/usr/local/etc/jupyter/jupyter_notebook_config.d/panel-client-jupyter.json\n",
      "    \t/usr/local/etc/jupyter/jupyter_notebook_config.json\n",
      "\u001b[34m[D 2025-02-06 09:13:20.071 ServerApp]\u001b[m Paths used for configuration of jupyter_notebook_config: \n",
      "    \t/usr/etc/jupyter/jupyter_notebook_config.json\n",
      "\u001b[34m[D 2025-02-06 09:13:20.071 ServerApp]\u001b[m Paths used for configuration of jupyter_notebook_config: \n",
      "    \t/root/.local/etc/jupyter/jupyter_notebook_config.json\n",
      "\u001b[34m[D 2025-02-06 09:13:20.071 ServerApp]\u001b[m Paths used for configuration of jupyter_notebook_config: \n",
      "    \t/root/.jupyter/jupyter_notebook_config.json\n",
      "\u001b[32m[I 2025-02-06 09:13:20.071 ServerApp]\u001b[m notebook_shim | extension was successfully linked.\n",
      "\u001b[32m[I 2025-02-06 09:13:20.072 ServerApp]\u001b[m panel.io.jupyter_server_extension | extension was successfully linked.\n",
      "\u001b[34m[D 2025-02-06 09:13:20.073 ServerApp]\u001b[m Config changed: {'ExtensionApp': {'log_level': 'DEBUG'}, 'NotebookApp': {}, 'ServerApp': {'log_level': 'DEBUG', 'jpserver_extensions': <LazyConfigValue value={'notebook': True, 'jupyter_lsp': True, 'jupyter_server_terminals': True, 'jupyterlab': True, 'notebook_shim': True, 'panel.io.jupyter_server_extension': True}>}}\n",
      "\u001b[32m[I 2025-02-06 09:13:20.088 ServerApp]\u001b[m notebook_shim | extension was successfully loaded.\n",
      "\u001b[34m[D 2025-02-06 09:13:20.090 ServerApp]\u001b[m [lsp] rootUri will be file:///media/Swin_UNETR_48\n",
      "\u001b[34m[D 2025-02-06 09:13:20.090 ServerApp]\u001b[m [lsp] virtualDocumentsUri will be file:///media/Swin_UNETR_48/.virtual_documents\n",
      "\u001b[32m[I 2025-02-06 09:13:20.091 ServerApp]\u001b[m jupyter_lsp | extension was successfully loaded.\n",
      "\u001b[32m[I 2025-02-06 09:13:20.092 ServerApp]\u001b[m jupyter_server_terminals | extension was successfully loaded.\n",
      "\u001b[32m[I 2025-02-06 09:13:20.093 LabApp]\u001b[m JupyterLab extension loaded from /usr/local/lib/python3.10/dist-packages/jupyterlab\n",
      "\u001b[32m[I 2025-02-06 09:13:20.093 LabApp]\u001b[m JupyterLab application directory is /usr/local/share/jupyter/lab\n",
      "\u001b[32m[I 2025-02-06 09:13:20.093 LabApp]\u001b[m Extension Manager is 'pypi'.\n",
      "\u001b[34m[D 2025-02-06 09:13:20.094 LabApp]\u001b[m Plugins in PyPIExtensionManager will managed on the sys_prefix level\n",
      "\u001b[34m[D 2025-02-06 09:13:20.138 LabApp]\u001b[m Extensions list will be fetched from https://pypi.org/pypi.\n",
      "\u001b[34m[D 2025-02-06 09:13:20.139 LabApp]\u001b[m Plugins in PluginManager will managed on the sys_prefix level\n",
      "\u001b[34m[D 2025-02-06 09:13:20.139 ServerApp]\u001b[m Paths used for configuration of default_setting_overrides: \n",
      "    \t/etc/jupyter/labconfig/default_setting_overrides.json\n",
      "\u001b[34m[D 2025-02-06 09:13:20.140 ServerApp]\u001b[m Paths used for configuration of default_setting_overrides: \n",
      "    \t/usr/local/etc/jupyter/labconfig/default_setting_overrides.json\n",
      "\u001b[34m[D 2025-02-06 09:13:20.140 ServerApp]\u001b[m Paths used for configuration of default_setting_overrides: \n",
      "    \t/usr/etc/jupyter/labconfig/default_setting_overrides.json\n",
      "\u001b[34m[D 2025-02-06 09:13:20.140 ServerApp]\u001b[m Paths used for configuration of default_setting_overrides: \n",
      "    \t/root/.local/etc/jupyter/labconfig/default_setting_overrides.json\n",
      "\u001b[34m[D 2025-02-06 09:13:20.140 ServerApp]\u001b[m Paths used for configuration of default_setting_overrides: \n",
      "    \t/root/.jupyter/labconfig/default_setting_overrides.json\n",
      "\u001b[32m[I 2025-02-06 09:13:20.142 ServerApp]\u001b[m jupyterlab | extension was successfully loaded.\n",
      "\u001b[34m[D 2025-02-06 09:13:20.143 ServerApp]\u001b[m Paths used for configuration of default_setting_overrides: \n",
      "    \t/etc/jupyter/labconfig/default_setting_overrides.json\n",
      "\u001b[34m[D 2025-02-06 09:13:20.143 ServerApp]\u001b[m Paths used for configuration of default_setting_overrides: \n",
      "    \t/usr/local/etc/jupyter/labconfig/default_setting_overrides.json\n",
      "\u001b[34m[D 2025-02-06 09:13:20.143 ServerApp]\u001b[m Paths used for configuration of default_setting_overrides: \n",
      "    \t/usr/etc/jupyter/labconfig/default_setting_overrides.json\n",
      "\u001b[34m[D 2025-02-06 09:13:20.144 ServerApp]\u001b[m Paths used for configuration of default_setting_overrides: \n",
      "    \t/root/.local/etc/jupyter/labconfig/default_setting_overrides.json\n",
      "\u001b[34m[D 2025-02-06 09:13:20.144 ServerApp]\u001b[m Paths used for configuration of default_setting_overrides: \n",
      "    \t/root/.jupyter/labconfig/default_setting_overrides.json\n",
      "\u001b[32m[I 2025-02-06 09:13:20.144 ServerApp]\u001b[m notebook | extension was successfully loaded.\n",
      "\u001b[32m[I 2025-02-06 09:13:20.145 ServerApp]\u001b[m panel.io.jupyter_server_extension | extension was successfully loaded.\n",
      "\u001b[32m[I 2025-02-06 09:13:20.146 ServerApp]\u001b[m The port 8888 is already in use, trying another port.\n",
      "\u001b[35m[C 2025-02-06 09:13:20.146 ServerApp]\u001b[m Running as root is not recommended. Use --allow-root to bypass.\n",
      "\u001b[34m[D 2025-02-06 09:13:20.146 ServerApp]\u001b[m Exiting application: jupyter-server\n"
     ]
    }
   ],
   "source": [
    "!jupyter notebook --debug\n"
   ]
  },
  {
   "cell_type": "code",
   "execution_count": null,
   "id": "4af1af70-96c7-4b1c-8c5f-c20ed45fec0b",
   "metadata": {},
   "outputs": [],
   "source": []
  },
  {
   "cell_type": "code",
   "execution_count": null,
   "id": "8d5b5840-4d34-4ca2-98ca-4632ccb6117a",
   "metadata": {},
   "outputs": [],
   "source": []
  }
 ],
 "metadata": {
  "kernelspec": {
   "display_name": "Python 3 (ipykernel)",
   "language": "python",
   "name": "python3"
  },
  "language_info": {
   "codemirror_mode": {
    "name": "ipython",
    "version": 3
   },
   "file_extension": ".py",
   "mimetype": "text/x-python",
   "name": "python",
   "nbconvert_exporter": "python",
   "pygments_lexer": "ipython3",
   "version": "3.10.12"
  }
 },
 "nbformat": 4,
 "nbformat_minor": 5
}
