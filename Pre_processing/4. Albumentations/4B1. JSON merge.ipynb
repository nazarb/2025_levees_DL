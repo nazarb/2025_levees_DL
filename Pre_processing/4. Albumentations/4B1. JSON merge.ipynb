{
 "cells": [
  {
   "cell_type": "markdown",
   "id": "a38508f5-54b0-4aa6-be25-925d00395d9f",
   "metadata": {},
   "source": [
    "# The code is used to merge different JSON files"
   ]
  },
  {
   "cell_type": "code",
   "execution_count": null,
   "id": "18fc8158-ab39-44e7-86c3-a82f2f9bb515",
   "metadata": {},
   "outputs": [],
   "source": [
    "import json\n",
    "import glob\n",
    "import os\n",
    "\n",
    "def merge_json_files(input_folder, output_file):\n",
    "    merged_data = {\n",
    "        \"labels\": {},\n",
    "        \"tensorImageSize\": \"2D\",\n",
    "        \"training\": [],\n",
    "        \"validation\": [],\n",
    "        \"testing\": []\n",
    "    }\n",
    "    \n",
    "    tileid_set = set()  # Track unique tile IDs\n",
    "    json_files = glob.glob(os.path.join(input_folder, \"*.json\"))\n",
    "    \n",
    "    for file in json_files:\n",
    "        with open(file, 'r') as f:\n",
    "            try:\n",
    "                data = json.load(f)\n",
    "            except json.JSONDecodeError as e:\n",
    "                print(f\"Error reading {file}: {e}\")\n",
    "                continue\n",
    "            \n",
    "            # Merge labels\n",
    "            merged_data[\"labels\"].update(data.get(\"labels\", {}))\n",
    "            \n",
    "            # Merge training, validation, and testing\n",
    "            for key in [\"training\", \"validation\", \"testing\"]:\n",
    "                for entry in data.get(key, []):\n",
    "                    tileid = entry.get(\"tileid\")\n",
    "                    if tileid and tileid not in tileid_set:\n",
    "                        merged_data[key].append(entry)\n",
    "                        tileid_set.add(tileid)\n",
    "    \n",
    "    # Save merged JSON\n",
    "    with open(output_file, 'w') as f:\n",
    "        json.dump(merged_data, f, indent=4)\n",
    "    print(f\"Merged JSON saved to {output_file}\")\n",
    "\n",
    "# Example usage\n",
    "merge_json_files(\"#Location_of_a_folder_with_JSON_to_merge\", \"Location_of_a_new_JSON.json\")\n"
   ]
  },
  {
   "cell_type": "code",
   "execution_count": null,
   "id": "9aac0c15-54f3-444b-ba92-1c856993e76c",
   "metadata": {},
   "outputs": [],
   "source": []
  }
 ],
 "metadata": {
  "kernelspec": {
   "display_name": "Python 3 (ipykernel)",
   "language": "python",
   "name": "python3"
  },
  "language_info": {
   "codemirror_mode": {
    "name": "ipython",
    "version": 3
   },
   "file_extension": ".py",
   "mimetype": "text/x-python",
   "name": "python",
   "nbconvert_exporter": "python",
   "pygments_lexer": "ipython3",
   "version": "3.12.7"
  }
 },
 "nbformat": 4,
 "nbformat_minor": 5
}
